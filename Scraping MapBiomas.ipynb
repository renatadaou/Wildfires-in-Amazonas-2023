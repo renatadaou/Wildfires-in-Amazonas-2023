{
 "cells": [
  {
   "cell_type": "markdown",
   "id": "d2c9ad17-a753-411f-83f1-ecc9db8724ee",
   "metadata": {},
   "source": [
    "Source: https://plataforma.brasil.mapbiomas.org/monitor-do-fogo"
   ]
  },
  {
   "cell_type": "code",
   "execution_count": 18,
   "id": "f5c4c47b-b462-4c7c-a7ed-3ebefa1c906b",
   "metadata": {},
   "outputs": [
    {
     "name": "stdout",
     "output_type": "stream",
     "text": [
      "{'areaHa': 472621.91, 'previousYearVariation': {'areaHa': 396231.42, 'percentage': 518.69, 'year': 2022, 'monthStart': 1, 'monthEnd': 12}, 'averageVariation': {'areaHa': 391285.9, 'percentage': 481.07, 'monthStart': 1, 'monthEnd': 12}}\n",
      "dict_keys(['areaHa', 'previousYearVariation', 'averageVariation'])\n"
     ]
    }
   ],
   "source": [
    "import requests\n",
    "\n",
    "url = f\"https://fogo.geodatin.com/api/statistics/area/state/13/city?year=2023&monthStart=1&monthEnd=12&landCover=3\"\n",
    "response = requests.get(url)\n",
    "data = response.json()\n",
    "print(data)\n",
    "print(data.keys())"
   ]
  },
  {
   "cell_type": "code",
   "execution_count": 19,
   "id": "830eac30-2895-4209-865d-9dc7e66f9aa6",
   "metadata": {},
   "outputs": [
    {
     "data": {
      "text/plain": [
       "{'areaHa': 472621.91,\n",
       " 'previousYearVariation': {'areaHa': 396231.42,\n",
       "  'percentage': 518.69,\n",
       "  'year': 2022,\n",
       "  'monthStart': 1,\n",
       "  'monthEnd': 12},\n",
       " 'averageVariation': {'areaHa': 391285.9,\n",
       "  'percentage': 481.07,\n",
       "  'monthStart': 1,\n",
       "  'monthEnd': 12}}"
      ]
     },
     "execution_count": 19,
     "metadata": {},
     "output_type": "execute_result"
    }
   ],
   "source": [
    "data"
   ]
  },
  {
   "cell_type": "code",
   "execution_count": 20,
   "id": "89cae920-4838-43ad-b104-cec182d028dd",
   "metadata": {},
   "outputs": [
    {
     "data": {
      "text/plain": [
       "dict_keys(['areaHa', 'previousYearVariation', 'averageVariation'])"
      ]
     },
     "execution_count": 20,
     "metadata": {},
     "output_type": "execute_result"
    }
   ],
   "source": [
    "data.keys()"
   ]
  },
  {
   "cell_type": "code",
   "execution_count": 21,
   "id": "a13cc8ec-98dc-46e5-ac7e-777ab077a468",
   "metadata": {},
   "outputs": [
    {
     "data": {
      "text/plain": [
       "472621.91"
      ]
     },
     "execution_count": 21,
     "metadata": {},
     "output_type": "execute_result"
    }
   ],
   "source": [
    "data['areaHa']"
   ]
  },
  {
   "cell_type": "code",
   "execution_count": 22,
   "id": "0b86e0b8-21fa-44c9-b90d-41cd23e2ab26",
   "metadata": {},
   "outputs": [
    {
     "data": {
      "text/plain": [
       "{'areaHa': 396231.42,\n",
       " 'percentage': 518.69,\n",
       " 'year': 2022,\n",
       " 'monthStart': 1,\n",
       " 'monthEnd': 12}"
      ]
     },
     "execution_count": 22,
     "metadata": {},
     "output_type": "execute_result"
    }
   ],
   "source": [
    "data['previousYearVariation']"
   ]
  },
  {
   "cell_type": "code",
   "execution_count": 23,
   "id": "d983e575-10f4-485e-835b-89fec05d188b",
   "metadata": {},
   "outputs": [
    {
     "data": {
      "text/plain": [
       "{'areaHa': 391285.9, 'percentage': 481.07, 'monthStart': 1, 'monthEnd': 12}"
      ]
     },
     "execution_count": 23,
     "metadata": {},
     "output_type": "execute_result"
    }
   ],
   "source": [
    "data['averageVariation']"
   ]
  },
  {
   "cell_type": "code",
   "execution_count": null,
   "id": "a23de2c9-9a6f-4377-ac0a-44d0bac4ae34",
   "metadata": {},
   "outputs": [],
   "source": []
  }
 ],
 "metadata": {
  "kernelspec": {
   "display_name": "Python 3 (ipykernel)",
   "language": "python",
   "name": "python3"
  },
  "language_info": {
   "codemirror_mode": {
    "name": "ipython",
    "version": 3
   },
   "file_extension": ".py",
   "mimetype": "text/x-python",
   "name": "python",
   "nbconvert_exporter": "python",
   "pygments_lexer": "ipython3",
   "version": "3.11.6"
  }
 },
 "nbformat": 4,
 "nbformat_minor": 5
}
