{
 "cells": [
  {
   "cell_type": "markdown",
   "id": "74b75113-4700-4078-9493-a725427442ba",
   "metadata": {},
   "source": [
    "## Terrabrasilis Analytics API 🌳 ##"
   ]
  },
  {
   "cell_type": "markdown",
   "id": "cbcc1bdc-e643-4236-8d5b-ec9a4bc089c8",
   "metadata": {},
   "source": [
    "Source: https://github.com/terrabrasilis/terrabrasilisAnalyticsAPI"
   ]
  },
  {
   "cell_type": "code",
   "execution_count": 1,
   "id": "5958ef9a-a6d0-43e3-8491-1bcea16ddf7e",
   "metadata": {},
   "outputs": [],
   "source": [
    "%load_ext rpy2.ipython\n",
    "%load_ext autoreload\n",
    "%autoreload 2\n",
    "\n",
    "%matplotlib inline  \n",
    "from matplotlib import rcParams\n",
    "rcParams['figure.figsize'] = (16, 100)\n",
    "\n",
    "import warnings\n",
    "from rpy2.rinterface import RRuntimeWarning\n",
    "warnings.filterwarnings(\"ignore\") # Ignore all warnings\n",
    "# warnings.filterwarnings(\"ignore\", category=RRuntimeWarning) # Show some warnings\n",
    "\n",
    "import pandas as pd\n",
    "import numpy as np\n",
    "import matplotlib.pyplot as plt\n",
    "from IPython.display import display, HTML"
   ]
  },
  {
   "cell_type": "code",
   "execution_count": 2,
   "id": "36f18d70-952d-400f-8ff0-5539088c38c4",
   "metadata": {},
   "outputs": [
    {
     "data": {
      "application/javascript": "// Disable auto-scrolling\nIPython.OutputArea.prototype._should_scroll = function(lines) {\n    return false;\n}\n",
      "text/plain": [
       "<IPython.core.display.Javascript object>"
      ]
     },
     "metadata": {},
     "output_type": "display_data"
    }
   ],
   "source": [
    "%%javascript\n",
    "// Disable auto-scrolling\n",
    "IPython.OutputArea.prototype._should_scroll = function(lines) {\n",
    "    return false;\n",
    "}"
   ]
  },
  {
   "cell_type": "code",
   "execution_count": 3,
   "id": "17f354df-7939-4967-aa4b-a041ca84bf8f",
   "metadata": {},
   "outputs": [
    {
     "name": "stdout",
     "output_type": "stream",
     "text": [
      "── Attaching core tidyverse packages ──────────────────────── tidyverse 2.0.0 ──\n",
      "✔ dplyr     1.1.4     ✔ readr     2.1.5\n",
      "✔ forcats   1.0.0     ✔ stringr   1.5.1\n",
      "✔ ggplot2   3.4.4     ✔ tibble    3.2.1\n",
      "✔ lubridate 1.9.3     ✔ tidyr     1.3.1\n",
      "✔ purrr     1.0.2     \n",
      "── Conflicts ────────────────────────────────────────── tidyverse_conflicts() ──\n",
      "✖ dplyr::filter() masks stats::filter()\n",
      "✖ dplyr::lag()    masks stats::lag()\n",
      "ℹ Use the conflicted package (<http://conflicted.r-lib.org/>) to force all conflicts to become errors\n"
     ]
    },
    {
     "data": {
      "text/plain": [
       "Loading required package: tidyverse\n"
      ]
     },
     "metadata": {},
     "output_type": "display_data"
    }
   ],
   "source": [
    "%%R\n",
    "\n",
    "# My commonly used R imports\n",
    "\n",
    "require('tidyverse')"
   ]
  },
  {
   "cell_type": "code",
   "execution_count": 4,
   "id": "190c1234-5882-41e5-b044-211f3a248e9b",
   "metadata": {},
   "outputs": [
    {
     "data": {
      "text/plain": [
       "Skipping install of 'terrabrasilisAnalyticsAPI' from a github remote, the SHA1 (8cb7d816) has not changed since last install.\n",
       "  Use `force = TRUE` to force installation\n"
      ]
     },
     "metadata": {},
     "output_type": "display_data"
    }
   ],
   "source": [
    "%%R\n",
    "\n",
    "devtools::install_github(\"terrabrasilis/terrabrasilisAnalyticsAPI\") # github group name is terrabrasilis\n",
    "library(terrabrasilisAnalyticsAPI) # R package name is terrabrasilisAnalyticsAPI"
   ]
  },
  {
   "cell_type": "code",
   "execution_count": 5,
   "id": "efe7a48d-376b-4e0f-8a7f-65a24cdaa5af",
   "metadata": {},
   "outputs": [],
   "source": [
    "%%R\n",
    "\n",
    "apiPath <- \"http://terrabrasilis.dpi.inpe.br/dashboard/api/v1/redis-cli/\""
   ]
  },
  {
   "cell_type": "code",
   "execution_count": 6,
   "id": "1638c1ed-98f4-4c84-9eb1-d9ea45c5a6f6",
   "metadata": {},
   "outputs": [],
   "source": [
    "%%R\n",
    "appIdentifier <- list_datasets(apiPath)\n"
   ]
  },
  {
   "cell_type": "code",
   "execution_count": 7,
   "id": "9acc045b-5562-4c14-bdd5-b266240227e7",
   "metadata": {},
   "outputs": [],
   "source": [
    "%%R\n",
    "prodesAmazonia <- appIdentifier[2]"
   ]
  },
  {
   "cell_type": "code",
   "execution_count": 8,
   "id": "78860b43-45c5-4b8d-ad5e-d936bb92a59f",
   "metadata": {},
   "outputs": [
    {
     "name": "stdout",
     "output_type": "stream",
     "text": [
      "[1] \"prodes_amazon\"\n"
     ]
    }
   ],
   "source": [
    "%%R\n",
    "prodesAmazonia"
   ]
  },
  {
   "cell_type": "code",
   "execution_count": 9,
   "id": "43168398-e62c-458c-b752-9a7a83f188f9",
   "metadata": {},
   "outputs": [],
   "source": [
    "%%R\n",
    "periods <- list_periods(apiPath, prodesAmazonia)"
   ]
  },
  {
   "cell_type": "code",
   "execution_count": 10,
   "id": "38e596a2-81cf-43d8-aeb1-366ee2d372aa",
   "metadata": {},
   "outputs": [
    {
     "name": "stdout",
     "output_type": "stream",
     "text": [
      "# A tibble: 17 × 6\n",
      "   startDate.year startDate.month startDate.day endDate.year endDate.month\n",
      "            <int>           <int>         <int>        <int>         <int>\n",
      " 1           1500               8            10         2007             7\n",
      " 2           2007               8             1         2008             7\n",
      " 3           2008               8             1         2009             7\n",
      " 4           2009               8             1         2010             7\n",
      " 5           2010               8             1         2011             7\n",
      " 6           2011               8             1         2012             7\n",
      " 7           2012               8             1         2013             7\n",
      " 8           2013               8             1         2014             7\n",
      " 9           2014               8             1         2015             7\n",
      "10           2015               8             1         2016             7\n",
      "11           2016               8             1         2017             7\n",
      "12           2017               8             1         2018             7\n",
      "13           2018               8             1         2019             7\n",
      "14           2019               8             1         2020             7\n",
      "15           2020               8             1         2021             7\n",
      "16           2021               8             1         2022             7\n",
      "17           2022               8             1         2023             7\n",
      "# ℹ 1 more variable: endDate.day <int>\n"
     ]
    }
   ],
   "source": [
    "%%R\n",
    "periods"
   ]
  },
  {
   "cell_type": "code",
   "execution_count": 11,
   "id": "e18a7d31-83ec-42ad-9bed-d69492d4e7fc",
   "metadata": {},
   "outputs": [],
   "source": [
    "%%R\n",
    "classes <- list_classes(apiPath, prodesAmazonia)"
   ]
  },
  {
   "cell_type": "code",
   "execution_count": 12,
   "id": "2981ecda-aac4-43ca-b379-59df2188b64c",
   "metadata": {},
   "outputs": [
    {
     "name": "stdout",
     "output_type": "stream",
     "text": [
      "# A tibble: 1 × 3\n",
      "     id name          description                                               \n",
      "  <int> <chr>         <chr>                                                     \n",
      "1     1 deforestation It is the process of complete and permanent disappearance…\n"
     ]
    }
   ],
   "source": [
    "%%R\n",
    "classes"
   ]
  },
  {
   "cell_type": "code",
   "execution_count": 13,
   "id": "2e72c309-4eb1-4c5a-a5e6-ff3aac5538a6",
   "metadata": {},
   "outputs": [],
   "source": [
    "%%R\n",
    "locals <- list_locals(apiPath, prodesAmazonia)"
   ]
  },
  {
   "cell_type": "code",
   "execution_count": 14,
   "id": "afe7079e-dc9b-4cc3-b54f-9ba06aa01078",
   "metadata": {},
   "outputs": [
    {
     "name": "stdout",
     "output_type": "stream",
     "text": [
      "# A tibble: 4 × 2\n",
      "    gid name    \n",
      "  <int> <chr>   \n",
      "1     1 uf      \n",
      "2     2 mun     \n",
      "3     3 consunit\n",
      "4     4 indi    \n"
     ]
    }
   ],
   "source": [
    "%%R\n",
    "locals"
   ]
  },
  {
   "cell_type": "code",
   "execution_count": 15,
   "id": "f2e782f8-8ed4-4cfc-8ddb-6f68196d40a1",
   "metadata": {},
   "outputs": [],
   "source": [
    "%%R\n",
    "localOfInterest <- list_local_of_interests(apiPath, prodesAmazonia)"
   ]
  },
  {
   "cell_type": "code",
   "execution_count": 16,
   "id": "5e27d95b-d6b8-44fe-8ec6-422c1c1f95ab",
   "metadata": {},
   "outputs": [
    {
     "name": "stdout",
     "output_type": "stream",
     "text": [
      "# A tibble: 11 × 4\n",
      "     gid loiname                        codibge   loi\n",
      "   <int> <chr>                            <int> <dbl>\n",
      " 1   657 Urucu/Juruá                         NA     4\n",
      " 2   658 Apiaka/Kayabi                       NA     4\n",
      " 3   659 Arara da Volta Grande do Xingu      NA     4\n",
      " 4   660 Katukina/Kaxinawá                   NA     4\n",
      " 5   661 Miratu                              NA     4\n",
      " 6   662 Lago do Correio                     NA     4\n",
      " 7   663 Jaquiri                             NA     4\n",
      " 8   664 Paumari do Rio Ituxi                NA     4\n",
      " 9   665 Taihantesu                          NA     4\n",
      "10   666 Apiaká do Pontal e Isolados         NA     4\n",
      "11   667 Governador                          NA     4\n"
     ]
    }
   ],
   "source": [
    "%%R\n",
    "localOfInterest[402:412,]"
   ]
  },
  {
   "cell_type": "code",
   "execution_count": 17,
   "id": "6af6bf2b-7676-4fda-83cb-b440efb9df62",
   "metadata": {},
   "outputs": [],
   "source": [
    "%%R\n",
    "loiUF = dplyr::filter(locals, grepl(\"uf\", name))$gid\n",
    "\n",
    "loinamesByLoi <- list_localOfInterestByLocal(apiPath, prodesAmazonia, loiUF)"
   ]
  },
  {
   "cell_type": "code",
   "execution_count": 18,
   "id": "68dde502-086d-429e-af95-80854c3801b9",
   "metadata": {},
   "outputs": [
    {
     "name": "stdout",
     "output_type": "stream",
     "text": [
      "# A tibble: 9 × 2\n",
      "    gid loiname    \n",
      "  <int> <chr>      \n",
      "1     1 Acre       \n",
      "2     2 Rondônia   \n",
      "3     3 Amazonas   \n",
      "4     4 Pará       \n",
      "5     5 Roraima    \n",
      "6     6 Tocantins  \n",
      "7     7 Mato Grosso\n",
      "8     8 Maranhão   \n",
      "9     9 Amapá      \n"
     ]
    }
   ],
   "source": [
    "%%R\n",
    "loinamesByLoi"
   ]
  },
  {
   "cell_type": "code",
   "execution_count": 19,
   "id": "1f06599d-5cc3-46d0-ac47-106bbf4fb706",
   "metadata": {},
   "outputs": [],
   "source": [
    "%%R\n",
    "filters <- list_filters(apiPath, prodesAmazonia)"
   ]
  },
  {
   "cell_type": "code",
   "execution_count": 20,
   "id": "dbd5da21-f9d7-41c0-8259-f3ff17f56607",
   "metadata": {},
   "outputs": [
    {
     "name": "stdout",
     "output_type": "stream",
     "text": [
      "# A tibble: 1 × 2\n",
      "     id type            \n",
      "  <int> <chr>           \n",
      "1     1 fid_area >= 0.01\n"
     ]
    }
   ],
   "source": [
    "%%R\n",
    "filters"
   ]
  },
  {
   "cell_type": "code",
   "execution_count": 21,
   "id": "929684e6-7af0-48e7-9b7e-45f58088d8b6",
   "metadata": {},
   "outputs": [
    {
     "name": "stdout",
     "output_type": "stream",
     "text": [
      "New names:\n",
      "• `loi` -> `loi...1`\n",
      "• `loiname` -> `loiname...2`\n",
      "• `areas` -> `areas...3`\n",
      "• `loi` -> `loi...4`\n",
      "• `loiname` -> `loiname...5`\n",
      "• `areas` -> `areas...6`\n",
      "• `loi` -> `loi...7`\n",
      "• `loiname` -> `loiname...8`\n",
      "• `areas` -> `areas...9`\n",
      "• `loi` -> `loi...10`\n",
      "• `loiname` -> `loiname...11`\n",
      "• `areas` -> `areas...12`\n",
      "• `loi` -> `loi...13`\n",
      "• `loiname` -> `loiname...14`\n",
      "• `areas` -> `areas...15`\n",
      "• `loi` -> `loi...16`\n",
      "• `loiname` -> `loiname...17`\n",
      "• `areas` -> `areas...18`\n",
      "• `loi` -> `loi...19`\n",
      "• `loiname` -> `loiname...20`\n",
      "• `areas` -> `areas...21`\n",
      "• `loi` -> `loi...22`\n",
      "• `loiname` -> `loiname...23`\n",
      "• `areas` -> `areas...24`\n",
      "• `loi` -> `loi...25`\n",
      "• `loiname` -> `loiname...26`\n",
      "• `areas` -> `areas...27`\n",
      "• `loi` -> `loi...28`\n",
      "• `loiname` -> `loiname...29`\n",
      "• `areas` -> `areas...30`\n",
      "• `loi` -> `loi...31`\n",
      "• `loiname` -> `loiname...32`\n",
      "• `areas` -> `areas...33`\n",
      "• `loi` -> `loi...34`\n",
      "• `loiname` -> `loiname...35`\n",
      "• `areas` -> `areas...36`\n",
      "• `loi` -> `loi...37`\n",
      "• `loiname` -> `loiname...38`\n",
      "• `areas` -> `areas...39`\n",
      "• `loi` -> `loi...40`\n",
      "• `loiname` -> `loiname...41`\n",
      "• `areas` -> `areas...42`\n",
      "• `loi` -> `loi...43`\n",
      "• `loiname` -> `loiname...44`\n",
      "• `areas` -> `areas...45`\n",
      "• `loi` -> `loi...46`\n",
      "• `loiname` -> `loiname...47`\n",
      "• `areas` -> `areas...48`\n",
      "• `loi` -> `loi...49`\n",
      "• `loiname` -> `loiname...50`\n",
      "• `areas` -> `areas...51`\n"
     ]
    },
    {
     "data": {
      "text/plain": [
       "In addition: Warning message:\n",
       "`cols` is now required when using `unnest()`.\n",
       "ℹ Please use `cols = c(areas)`. \n"
      ]
     },
     "metadata": {},
     "output_type": "display_data"
    }
   ],
   "source": [
    "%%R\n",
    "data <- get_dataByLocalOfInterest(apiPath, \n",
    "                                  prodesAmazonia, \n",
    "                                  classes$name, \n",
    "                                  loinamesByLoi[3,]$gid)\n"
   ]
  },
  {
   "cell_type": "code",
   "execution_count": 22,
   "id": "8dbc862c-58ed-4669-a96f-4fcf67f10939",
   "metadata": {},
   "outputs": [
    {
     "name": "stdout",
     "output_type": "stream",
     "text": [
      "            name         clazz startDate.year startDate.month startDate.day\n",
      "1  PRODES AMAZON deforestation           1500               8            10\n",
      "2  PRODES AMAZON deforestation           2007               8             1\n",
      "3  PRODES AMAZON deforestation           2008               8             1\n",
      "4  PRODES AMAZON deforestation           2009               8             1\n",
      "5  PRODES AMAZON deforestation           2010               8             1\n",
      "6  PRODES AMAZON deforestation           2011               8             1\n",
      "7  PRODES AMAZON deforestation           2012               8             1\n",
      "8  PRODES AMAZON deforestation           2013               8             1\n",
      "9  PRODES AMAZON deforestation           2014               8             1\n",
      "10 PRODES AMAZON deforestation           2015               8             1\n",
      "11 PRODES AMAZON deforestation           2016               8             1\n",
      "12 PRODES AMAZON deforestation           2017               8             1\n",
      "13 PRODES AMAZON deforestation           2018               8             1\n",
      "14 PRODES AMAZON deforestation           2019               8             1\n",
      "15 PRODES AMAZON deforestation           2020               8             1\n",
      "16 PRODES AMAZON deforestation           2021               8             1\n",
      "17 PRODES AMAZON deforestation           2022               8             1\n",
      "   endDate.year endDate.month endDate.day loi loiname type       area\n",
      "1          2007             7          31   1       3    1 32484.7373\n",
      "2          2008             7          31   1       3    1   612.1510\n",
      "3          2009             7          31   1       3    1   344.3131\n",
      "4          2010             7          31   1       3    1   545.1558\n",
      "5          2011             7          31   1       3    1   507.2775\n",
      "6          2012             7          31   1       3    1   470.7685\n",
      "7          2013             7          31   1       3    1   480.7929\n",
      "8          2014             7          31   1       3    1   552.1581\n",
      "9          2015             7          31   1       3    1   687.5735\n",
      "10         2016             7          31   1       3    1  1003.4882\n",
      "11         2017             7          31   1       3    1  1009.7284\n",
      "12         2018             7          31   1       3    1  1051.9318\n",
      "13         2019             7          31   1       3    1  1556.3649\n",
      "14         2020             7          31   1       3    1  1419.9419\n",
      "15         2021             7          31   1       3    1  2164.5924\n",
      "16         2022             7          31   1       3    1  3047.6839\n",
      "17         2023             7          31   1       3    1  1194.3001\n"
     ]
    }
   ],
   "source": [
    "%%R\n",
    "data"
   ]
  },
  {
   "cell_type": "code",
   "execution_count": 23,
   "id": "ebfdd60b-7e5b-4b16-9a65-9fbe8a50bba0",
   "metadata": {},
   "outputs": [
    {
     "name": "stdout",
     "output_type": "stream",
     "text": [
      "New names:\n",
      "• `loi` -> `loi...1`\n",
      "• `loiname` -> `loiname...2`\n",
      "• `areas` -> `areas...3`\n",
      "• `loi` -> `loi...4`\n",
      "• `loiname` -> `loiname...5`\n",
      "• `areas` -> `areas...6`\n",
      "• `loi` -> `loi...7`\n",
      "• `loiname` -> `loiname...8`\n",
      "• `areas` -> `areas...9`\n",
      "• `loi` -> `loi...10`\n",
      "• `loiname` -> `loiname...11`\n",
      "• `areas` -> `areas...12`\n"
     ]
    },
    {
     "data": {
      "text/plain": [
       "In addition: Warning message:\n",
       "`cols` is now required when using `unnest()`.\n",
       "ℹ Please use `cols = c(areas)`. \n"
      ]
     },
     "metadata": {},
     "output_type": "display_data"
    }
   ],
   "source": [
    "%%R\n",
    "data <- get_dataByParameters(apiPath, \n",
    "                            prodesAmazonia, \n",
    "                            classes$name, \n",
    "                            loinamesByLoi[1,]$gid, \n",
    "                            \"2019-01-01\", \n",
    "                            \"2023-12-30\")"
   ]
  },
  {
   "cell_type": "code",
   "execution_count": 24,
   "id": "7197ec66-0004-415e-a335-8b865c89d636",
   "metadata": {},
   "outputs": [
    {
     "name": "stdout",
     "output_type": "stream",
     "text": [
      "           name         clazz startDate.year startDate.month startDate.day\n",
      "1 PRODES AMAZON deforestation           2019               8             1\n",
      "2 PRODES AMAZON deforestation           2020               8             1\n",
      "3 PRODES AMAZON deforestation           2021               8             1\n",
      "4 PRODES AMAZON deforestation           2022               8             1\n",
      "  endDate.year endDate.month endDate.day loi loiname type      area\n",
      "1         2020             7          31   1       1    1  660.7160\n",
      "2         2021             7          31   1       1    1  892.0548\n",
      "3         2022             7          31   1       1    1 1005.8640\n",
      "4         2023             7          31   1       1    1  456.3407\n"
     ]
    }
   ],
   "source": [
    "%%R\n",
    "data"
   ]
  },
  {
   "cell_type": "code",
   "execution_count": 25,
   "id": "6fe97fc2-87bd-4524-b22c-94666b3e4dba",
   "metadata": {},
   "outputs": [
    {
     "name": "stdout",
     "output_type": "stream",
     "text": [
      "New names:\n",
      "• `loi` -> `loi...1`\n",
      "• `loiname` -> `loiname...2`\n",
      "• `areas` -> `areas...3`\n",
      "• `loi` -> `loi...4`\n",
      "• `loiname` -> `loiname...5`\n",
      "• `areas` -> `areas...6`\n",
      "• `loi` -> `loi...7`\n",
      "• `loiname` -> `loiname...8`\n",
      "• `areas` -> `areas...9`\n",
      "• `loi` -> `loi...10`\n",
      "• `loiname` -> `loiname...11`\n",
      "• `areas` -> `areas...12`\n",
      "           name         clazz startDate.year endDate.year      area\n",
      "1 PRODES AMAZON deforestation           2019         2020  660.7160\n",
      "2 PRODES AMAZON deforestation           2020         2021  892.0548\n",
      "3 PRODES AMAZON deforestation           2021         2022 1005.8640\n",
      "4 PRODES AMAZON deforestation           2022         2023  456.3407\n"
     ]
    },
    {
     "data": {
      "text/plain": [
       "In addition: Warning message:\n",
       "`cols` is now required when using `unnest()`.\n",
       "ℹ Please use `cols = c(areas)`. \n"
      ]
     },
     "metadata": {},
     "output_type": "display_data"
    }
   ],
   "source": [
    "%%R\n",
    "data <- get_dataByParameters(apiPath, prodesAmazonia, classes$name, loinamesByLoi[1,]$gid, \"2019-01-01\", \"2023-12-30\") %>% \n",
    "  dplyr::filter(.,endDate.year!=2000) %>% \n",
    "  dplyr::select(name, clazz, startDate.year, endDate.year, area)\n",
    "\n",
    "data"
   ]
  },
  {
   "cell_type": "code",
   "execution_count": 26,
   "id": "2680d92b-7aa9-4472-bc56-d01ee4fd89ca",
   "metadata": {},
   "outputs": [
    {
     "name": "stdout",
     "output_type": "stream",
     "text": [
      "New names:\n",
      "• `loi` -> `loi...1`\n",
      "• `loiname` -> `loiname...2`\n",
      "• `areas` -> `areas...3`\n",
      "• `loi` -> `loi...4`\n",
      "• `loiname` -> `loiname...5`\n",
      "• `areas` -> `areas...6`\n",
      "• `loi` -> `loi...7`\n",
      "• `loiname` -> `loiname...8`\n",
      "• `areas` -> `areas...9`\n",
      "• `loi` -> `loi...10`\n",
      "• `loiname` -> `loiname...11`\n",
      "• `areas` -> `areas...12`\n"
     ]
    },
    {
     "data": {
      "text/plain": [
       "In addition: Warning message:\n",
       "`cols` is now required when using `unnest()`.\n",
       "ℹ Please use `cols = c(areas)`. \n"
      ]
     },
     "metadata": {},
     "output_type": "display_data"
    }
   ],
   "source": [
    "\n",
    "%%R\n",
    "data <- get_dataByParameters(apiPath, \n",
    "                            prodesAmazonia, \n",
    "                            classes$name, \n",
    "                            loinamesByLoi[1,]$gid, \n",
    "                            \"2019-01-01\", \n",
    "                            \"2023-12-30\") %>%\n",
    "as_tibble()"
   ]
  },
  {
   "cell_type": "code",
   "execution_count": 27,
   "id": "4e5dbe04-269f-4bb5-a76f-8fc844fb4f71",
   "metadata": {},
   "outputs": [
    {
     "data": {
      "image/png": "[encoded data removed]",
      "text/plain": [
       "<IPython.core.display.Image object>"
      ]
     },
     "metadata": {},
     "output_type": "display_data"
    }
   ],
   "source": [
    "%%R\n",
    "library(ggplot2) \n",
    "\n",
    "ggplot(data, aes(x=as.factor(endDate.year), y=area, fill=clazz)) + \n",
    "  geom_text(aes(label=as.numeric(round(area, 2))), vjust=-0.5, hjust=0.3, size = 4) +\n",
    "  geom_bar(stat = \"identity\", width = 0.8, fill = \"#008080\") +\n",
    "  scale_x_discrete(\"Year\", labels = as.character(data$endDate.year), breaks = data$endDate.year) +\n",
    "  theme(axis.text.x = element_text(angle = 45, vjust = 0.5)) +\n",
    "  labs(colour = \"Date\") + labs(x = \"Years\") + labs(y = \"Areas (km²)\") + \n",
    "  labs(title = loinamesByLoi[3,]$loiname, subtitle = \"Three years of rising deforestation, followed by a decline in half the area\",  caption = \"Source: Terrabrasilis, National Institute for Space Research (INPE)\" ) + labs(fill = \"class\")\n"
   ]
  },
  {
   "cell_type": "code",
   "execution_count": 28,
   "id": "3c937d58-9ea9-418e-8c09-eae01f3a33f9",
   "metadata": {},
   "outputs": [
    {
     "data": {
      "text/plain": [
       "<Figure size 1600x10000 with 0 Axes>"
      ]
     },
     "metadata": {},
     "output_type": "display_data"
    }
   ],
   "source": [
    "plt.savefig('chart.png')"
   ]
  },
  {
   "cell_type": "code",
   "execution_count": null,
   "id": "9bc8f60d-97cf-46e5-8cc2-d703fbb73171",
   "metadata": {},
   "outputs": [],
   "source": []
  }
 ],
 "metadata": {
  "kernelspec": {
   "display_name": "Python 3 (ipykernel)",
   "language": "python",
   "name": "python3"
  },
  "language_info": {
   "codemirror_mode": {
    "name": "ipython",
    "version": 3
   },
   "file_extension": ".py",
   "mimetype": "text/x-python",
   "name": "python",
   "nbconvert_exporter": "python",
   "pygments_lexer": "ipython3",
   "version": "3.11.6"
  }
 },
 "nbformat": 4,
 "nbformat_minor": 5
}
